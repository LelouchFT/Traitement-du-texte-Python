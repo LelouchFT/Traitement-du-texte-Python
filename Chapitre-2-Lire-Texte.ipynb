{
 "cells": [
  {
   "cell_type": "markdown",
   "metadata": {},
   "source": [
    "Sur ce module, nous examinons les moyens de lire et d'analyser les données dans les fichiers.\n",
    "\n",
    "## 02_01 Lire fichier texte\n",
    "\n",
    "Python prend en charge un certain nombre de bibliothèques standard et personnalisées pour lire des fichiers de tous types dans des variables Python."
   ]
  },
  {
   "cell_type": "code",
   "execution_count": 1,
   "metadata": {},
   "outputs": [
    {
     "name": "stdout",
     "output_type": "stream",
     "text": [
      "Données lues à partir du fichier :  Si vous vous intÃ©ressez au big data, vous connaissez certainement Apache Spark. Savez-vous pourquoi Spark est le framework de prÃ©dilection pour le traitement de donnÃ©es massives ? Pourquoi est-il a\n"
     ]
    }
   ],
   "source": [
    "import os\n",
    "\n",
    "#Lire les fichiers en utilisant une librairie standard de Python\n",
    "with open(os.getcwd()+ \"/Essentiel-Apache-Spark.txt\", 'r') as fh:  \n",
    "    filedata = fh.read()\n",
    "    \n",
    "#Afficher les 200 premiers caractères du fichier\n",
    "print(\"Données lues à partir du fichier : \", filedata[0:200] )"
   ]
  },
  {
   "cell_type": "markdown",
   "metadata": {},
   "source": [
    "## 02_02 Lecture avec NLTK CorpusReader\n",
    "\n",
    "Lire le même fichier texte à l'aide d'un CorpusReader\n",
    "\n",
    "NLTK prend en charge plusieurs CorpusReaders selon le type de source de données. Détails disponibles sur http://www.nltk.org/howto/corpus.html\n"
   ]
  },
  {
   "cell_type": "code",
   "execution_count": 2,
   "metadata": {},
   "outputs": [
    {
     "name": "stdout",
     "output_type": "stream",
     "text": [
      "Si vous vous intéressez au big data, vous connaissez certainement Apache Spark. Savez-vous pourquoi Spark est le framework de prédilection pour le traitement de données massives ? Pourquoi est-il autant apprécié notamment pour déployer les algorithmes de machine learning ? Découvrez ce cours sur Apache PySpark pour répondre à toutes vos questions. À travers de multiples exemples et mises en pratique, le professeur associé en technologies de l'information et techniques d'optimisation, vous donne toutes les clés pour analyser efficacement des données à grande échelle avec Apache Spark et Python.\n"
     ]
    },
    {
     "name": "stderr",
     "output_type": "stream",
     "text": [
      "[nltk_data] Downloading package punkt to\n",
      "[nltk_data]     C:\\Users\\admin\\AppData\\Roaming\\nltk_data...\n",
      "[nltk_data]   Package punkt is already up-to-date!\n"
     ]
    }
   ],
   "source": [
    "#installez nltk à partir de l'invite anaconda en utilisant \"pip install nltk\"\n",
    "import nltk\n",
    "#Télécharger le package punkt, utilisé une partie des autres commandes\n",
    "nltk.download('punkt')\n",
    "\n",
    "from nltk.corpus.reader.plaintext import PlaintextCorpusReader\n",
    "\n",
    "#Lire le fichier dans un corpus. La même commande peut lire un répertoire entier\n",
    "corpus=PlaintextCorpusReader(os.getcwd(),\"Essentiel-Apache-Spark.txt\")\n",
    "\n",
    "#Afficher le contenu brut du corpus\n",
    "print(corpus.raw())"
   ]
  },
  {
   "cell_type": "markdown",
   "metadata": {},
   "source": [
    "## 02_03 Explorer le corpus\n",
    "\n",
    "La bibliothèque de corpus prend en charge un certain nombre de fonctions pour extraire des mots, des paragraphes et des phrases du corpus"
   ]
  },
  {
   "cell_type": "code",
   "execution_count": 4,
   "metadata": {},
   "outputs": [
    {
     "name": "stdout",
     "output_type": "stream",
     "text": [
      "Fichier dans le corpus :  ['Essentiel-Apache-Spark.txt']\n",
      "\n",
      " Nombre total de paragraphs corpus :  1\n",
      "\n",
      " Nombre totale de phrases dans ce corpus :  5\n",
      "\n",
      " Première phrase :  ['Si', 'vous', 'vous', 'intéressez', 'au', 'big', 'data', ',', 'vous', 'connaissez', 'certainement', 'Apache', 'Spark', '.']\n",
      "\n",
      " Mots dans le corpus :  ['Si', 'vous', 'vous', 'intéressez', 'au', 'big', ...]\n"
     ]
    }
   ],
   "source": [
    "#Extraire les ID de fichiers du corpus\n",
    "print(\"Fichier dans le corpus : \", corpus.fileids())\n",
    "\n",
    "#Extract paragraphs from the corpus\n",
    "paragraphs=corpus.paras()\n",
    "print(\"\\n Nombre total de paragraphs corpus : \", len(paragraphs))\n",
    "\n",
    "#Extraire des phrases du corpus\n",
    "sentences=corpus.sents()\n",
    "print(\"\\n Nombre totale de phrases dans ce corpus : \", len(sentences))\n",
    "print(\"\\n Première phrase : \", sentences[0])\n",
    "\n",
    "#Extraire des mots du corpus\n",
    "print(\"\\n Mots dans le corpus : \",corpus.words() )"
   ]
  },
  {
   "cell_type": "markdown",
   "metadata": {},
   "source": [
    "## 02_04 Analyser le corpus\n",
    "\n",
    "La bibliothèque NLTK fournit un certain nombre de fonctions pour analyser les distributions et les agrégats des données du corpus."
   ]
  },
  {
   "cell_type": "code",
   "execution_count": 5,
   "metadata": {},
   "outputs": [
    {
     "name": "stdout",
     "output_type": "stream",
     "text": [
      "Top 10 des mots du corpus :  [('vous', 5), ('de', 5), ('pour', 4), (',', 3), ('Apache', 3), ('Spark', 3), ('.', 3), ('le', 3), ('et', 3), ('-', 2)]\n",
      "\n",
      " Distribution pour le mots \"Spark\" :  3\n"
     ]
    }
   ],
   "source": [
    "#Trouver la distribution de fréquence des mots dans le corpus\n",
    "course_freq_dist=nltk.FreqDist(corpus.words())\n",
    "\n",
    "#Afficher les mots les plus couramment utilisés\n",
    "print(\"Top 10 des mots du corpus : \", course_freq_dist.most_common(10))\n",
    "\n",
    "#Trouver la distribution d'un mot spécifique\n",
    "print(\"\\n Distribution pour le mots \\\"Spark\\\" : \",course_freq_dist.get(\"Spark\"))"
   ]
  },
  {
   "cell_type": "code",
   "execution_count": null,
   "metadata": {},
   "outputs": [],
   "source": []
  }
 ],
 "metadata": {
  "kernelspec": {
   "display_name": "Python 3",
   "language": "python",
   "name": "python3"
  },
  "language_info": {
   "codemirror_mode": {
    "name": "ipython",
    "version": 3
   },
   "file_extension": ".py",
   "mimetype": "text/x-python",
   "name": "python",
   "nbconvert_exporter": "python",
   "pygments_lexer": "ipython3",
   "version": "3.7.6"
  }
 },
 "nbformat": 4,
 "nbformat_minor": 2
}
