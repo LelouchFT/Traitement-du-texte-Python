{
 "cells": [
  {
   "cell_type": "code",
   "execution_count": 2,
   "metadata": {},
   "outputs": [
    {
     "name": "stderr",
     "output_type": "stream",
     "text": [
      "[nltk_data] Downloading package punkt to\n",
      "[nltk_data]     C:\\Users\\admin\\AppData\\Roaming\\nltk_data...\n",
      "[nltk_data]   Package punkt is already up-to-date!\n",
      "[nltk_data] Downloading package stopwords to\n",
      "[nltk_data]     C:\\Users\\admin\\AppData\\Roaming\\nltk_data...\n",
      "[nltk_data]   Package stopwords is already up-to-date!\n"
     ]
    },
    {
     "name": "stdout",
     "output_type": "stream",
     "text": [
      "\n",
      " Tokens totaux :  58\n"
     ]
    }
   ],
   "source": [
    "#Préparer les données à utiliser dans cet exercice\n",
    "\n",
    "import nltk\n",
    "import os\n",
    "#Télécharger le package punkt, utilisé une partie des autres commandes\n",
    "nltk.download('punkt')\n",
    "\n",
    "#Lire le fichier de base dans une liste de jetons\n",
    "base_file = open(os.getcwd()+ \"/Essentiel-Apache-Spark.txt\", 'rt')\n",
    "raw_text = base_file.read()\n",
    "base_file.close()\n",
    "\n",
    "#Exécutez le même prétraitement effectué dans le module 3\n",
    "token_list = nltk.word_tokenize(raw_text)\n",
    "\n",
    "token_list2 = list(filter(lambda token: nltk.tokenize.punkt.PunktToken(token).is_non_punct, token_list))\n",
    "\n",
    "token_list3=[word.lower() for word in token_list2 ]\n",
    "\n",
    "nltk.download('stopwords')\n",
    "from nltk.corpus import stopwords\n",
    "token_list4 = list(filter(lambda token: token not in stopwords.words('french'), token_list3))\n",
    "\n",
    "\n",
    "import spacy\n",
    "from spacy.language import Language\n",
    "\n",
    "nlp = spacy.load('fr_core_news_sm')\n",
    "doc = nlp(\" \".join(token_list4))\n",
    "token_list5 = [d.lemma_ for d in doc]\n",
    "\n",
    "\n",
    "print(\"\\n Tokens totaux : \",len(token_list5))"
   ]
  },
  {
   "cell_type": "markdown",
   "metadata": {},
   "source": [
    "## 04_01 Construire des ngrammes"
   ]
  },
  {
   "cell_type": "code",
   "execution_count": 3,
   "metadata": {},
   "outputs": [
    {
     "name": "stdout",
     "output_type": "stream",
     "text": [
      "Bigrammes les plus courants : \n",
      "[(('apache', 'spark'), 2), (('si', 'intéressez'), 1), (('intéressez', 'big'), 1), (('big', 'data'), 1), (('data', 'connaître'), 1)]\n",
      " \n",
      " Trigrammes les plus courants : \n",
      "[(('si', 'intéressez', 'big'), 1), (('intéressez', 'big', 'data'), 1), (('big', 'data', 'connaître'), 1), (('data', 'connaître', 'certainement'), 1), (('connaître', 'certainement', 'apache'), 1)]\n"
     ]
    }
   ],
   "source": [
    "\n",
    "from nltk.util import ngrams\n",
    "from collections import Counter\n",
    "\n",
    "#Trouvez des bigrammes et imprimez les 5 les plus courants\n",
    "bigrams = ngrams(token_list5,2)\n",
    "print(\"Bigrammes les plus courants : \")\n",
    "print(Counter(bigrams).most_common(5))\n",
    "\n",
    "#Trouvez des trigrammes et imprimez les 5 les plus courants\n",
    "trigrams = ngrams(token_list5,3)\n",
    "print(\" \\n Trigrammes les plus courants : \" )\n",
    "print(Counter(trigrams).most_common(5))"
   ]
  },
  {
   "cell_type": "markdown",
   "metadata": {},
   "source": [
    "## 04_02 Parts-of-Speech Tagging\n",
    "\n",
    "Some examples of Parts-of-Speech abbreviations:\n",
    "NN : noun\n",
    "NNS : noun plural\n",
    "VBP : Verb singular present."
   ]
  },
  {
   "cell_type": "code",
   "execution_count": 4,
   "metadata": {},
   "outputs": [
    {
     "name": "stderr",
     "output_type": "stream",
     "text": [
      "[nltk_data] Downloading package averaged_perceptron_tagger to\n",
      "[nltk_data]     C:\\Users\\admin\\AppData\\Roaming\\nltk_data...\n",
      "[nltk_data]   Package averaged_perceptron_tagger is already up-to-\n",
      "[nltk_data]       date!\n"
     ]
    },
    {
     "data": {
      "text/plain": [
       "[('si', 'NN'),\n",
       " ('intéressez', 'NN'),\n",
       " ('big', 'JJ'),\n",
       " ('data', 'NNS'),\n",
       " ('connaître', 'NN'),\n",
       " ('certainement', 'NN'),\n",
       " ('apache', 'NN'),\n",
       " ('spark', 'NN'),\n",
       " ('savoir', 'SYM'),\n",
       " ('-', ':')]"
      ]
     },
     "execution_count": 4,
     "metadata": {},
     "output_type": "execute_result"
    }
   ],
   "source": [
    "#télécharger le package tagger\n",
    "nltk.download('averaged_perceptron_tagger')\n",
    "\n",
    "#Taguez et imprimez les 10 premiers tokens\n",
    "nltk.pos_tag(token_list5)[:10]"
   ]
  },
  {
   "cell_type": "code",
   "execution_count": 5,
   "metadata": {},
   "outputs": [
    {
     "name": "stdout",
     "output_type": "stream",
     "text": [
      "[('si', 'SCONJ'), ('intéressez', 'ADJ'), ('big', 'ADJ'), ('data', 'NOUN'), ('connaître', 'VERB'), ('certainement', 'ADV'), ('apache', 'NOUN'), ('spark', 'NOUN'), ('savoir', 'VERB'), ('-', 'PUNCT')]\n"
     ]
    }
   ],
   "source": [
    "# Tager le texte en utilisant spacy\n",
    "doc = nlp(\" \".join(token_list5))\n",
    "pos_tags = [(d.text, d.pos_) for d in doc]\n",
    "# Afficher les premièrs mots \n",
    "print(pos_tags[:10])"
   ]
  },
  {
   "cell_type": "markdown",
   "metadata": {},
   "source": [
    "## 04_04 Building TF-IDF matrix"
   ]
  },
  {
   "cell_type": "code",
   "execution_count": 6,
   "metadata": {
    "scrolled": true
   },
   "outputs": [
    {
     "name": "stdout",
     "output_type": "stream",
     "text": [
      "Les tokens utilisés comme fonctionnalités sont : : \n",
      "['analyse', 'collecte', 'conseils', 'données', 'démarrer', 'fouille', 'nettoyage', 'python', 'sentiments', 'simplifiée', 'texte']\n",
      "\n",
      " Taille du tableau. Chaque ligne représente un document. Chaque colonne représente une fonctionnalité/jeton\n",
      "(3, 11)\n",
      "\n",
      " Tableau TF-IDF réel\n"
     ]
    },
    {
     "data": {
      "text/plain": [
       "array([[0.        , 0.        , 0.49047908, 0.        , 0.49047908,\n",
       "        0.37302199, 0.        , 0.49047908, 0.        , 0.        ,\n",
       "        0.37302199],\n",
       "       [0.        , 0.49047908, 0.        , 0.49047908, 0.        ,\n",
       "        0.37302199, 0.49047908, 0.        , 0.        , 0.        ,\n",
       "        0.37302199],\n",
       "       [0.57735027, 0.        , 0.        , 0.        , 0.        ,\n",
       "        0.        , 0.        , 0.        , 0.57735027, 0.57735027,\n",
       "        0.        ]])"
      ]
     },
     "execution_count": 6,
     "metadata": {},
     "output_type": "execute_result"
    }
   ],
   "source": [
    "#Utiliser la bibliothèque scikit-learn\n",
    "from sklearn.feature_extraction.text import TfidfVectorizer\n",
    "import pandas as pd\n",
    "\n",
    "#Utiliser un petit corpus pour chaque visualisation\n",
    "vector_corpus = [\n",
    "    'Fouille du texte en R et Python : 8 conseils pour démarrer',\n",
    "    'Fouille du texte avec R : collecte et nettoyage de données',\n",
    "    'L\\'analyse des sentiments dans R simplifiée'\n",
    "]\n",
    "\n",
    "#Créer un vectoriseur pour la langue française\n",
    "vectorizer = TfidfVectorizer(stop_words=stopwords.words('french'))\n",
    "\n",
    "#Créer le vecteur\n",
    "tfidf=vectorizer.fit_transform(vector_corpus)\n",
    "\n",
    "print(\"Les tokens utilisés comme fonctionnalités sont : : \")\n",
    "print(vectorizer.get_feature_names())\n",
    "\n",
    "print(\"\\n Taille du tableau. Chaque ligne représente un document. Chaque colonne représente une fonctionnalité/jeton\")\n",
    "print(tfidf.shape)\n",
    "\n",
    "print(\"\\n Tableau TF-IDF réel\")\n",
    "tfidf.toarray()\n"
   ]
  },
  {
   "cell_type": "code",
   "execution_count": null,
   "metadata": {},
   "outputs": [],
   "source": []
  }
 ],
 "metadata": {
  "kernelspec": {
   "display_name": "Python 3",
   "language": "python",
   "name": "python3"
  },
  "language_info": {
   "codemirror_mode": {
    "name": "ipython",
    "version": 3
   },
   "file_extension": ".py",
   "mimetype": "text/x-python",
   "name": "python",
   "nbconvert_exporter": "python",
   "pygments_lexer": "ipython3",
   "version": "3.7.6"
  }
 },
 "nbformat": 4,
 "nbformat_minor": 2
}
